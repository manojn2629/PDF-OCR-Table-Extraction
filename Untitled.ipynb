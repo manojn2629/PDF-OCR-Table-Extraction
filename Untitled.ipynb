{
 "cells": [
  {
   "cell_type": "code",
   "execution_count": 2,
   "id": "1fef1b6c-53d7-4a8b-aff7-104f5e4d56b3",
   "metadata": {},
   "outputs": [
    {
     "name": "stdout",
     "output_type": "stream",
     "text": [
      "Requirement already satisfied: PyPDF2 in c:\\users\\manoj\\appdata\\local\\programs\\python\\python312\\lib\\site-packages (3.0.1)\n",
      "Requirement already satisfied: pdfplumber in c:\\users\\manoj\\appdata\\local\\programs\\python\\python312\\lib\\site-packages (0.11.5)\n",
      "Requirement already satisfied: pytesseract in c:\\users\\manoj\\appdata\\local\\programs\\python\\python312\\lib\\site-packages (0.3.13)\n",
      "Requirement already satisfied: pillow in c:\\users\\manoj\\appdata\\local\\programs\\python\\python312\\lib\\site-packages (11.1.0)\n",
      "Requirement already satisfied: pandas in c:\\users\\manoj\\appdata\\local\\programs\\python\\python312\\lib\\site-packages (2.2.3)\n",
      "Requirement already satisfied: openpyxl in c:\\users\\manoj\\appdata\\local\\programs\\python\\python312\\lib\\site-packages (3.1.5)\n",
      "Requirement already satisfied: pdfminer.six==20231228 in c:\\users\\manoj\\appdata\\local\\programs\\python\\python312\\lib\\site-packages (from pdfplumber) (20231228)\n",
      "Requirement already satisfied: pypdfium2>=4.18.0 in c:\\users\\manoj\\appdata\\local\\programs\\python\\python312\\lib\\site-packages (from pdfplumber) (4.30.1)\n",
      "Requirement already satisfied: charset-normalizer>=2.0.0 in c:\\users\\manoj\\appdata\\local\\programs\\python\\python312\\lib\\site-packages (from pdfminer.six==20231228->pdfplumber) (3.4.1)\n",
      "Requirement already satisfied: cryptography>=36.0.0 in c:\\users\\manoj\\appdata\\local\\programs\\python\\python312\\lib\\site-packages (from pdfminer.six==20231228->pdfplumber) (44.0.0)\n",
      "Requirement already satisfied: packaging>=21.3 in c:\\users\\manoj\\appdata\\local\\programs\\python\\python312\\lib\\site-packages (from pytesseract) (24.2)\n",
      "Requirement already satisfied: numpy>=1.26.0 in c:\\users\\manoj\\appdata\\local\\programs\\python\\python312\\lib\\site-packages (from pandas) (2.2.1)\n",
      "Requirement already satisfied: python-dateutil>=2.8.2 in c:\\users\\manoj\\appdata\\local\\programs\\python\\python312\\lib\\site-packages (from pandas) (2.9.0.post0)\n",
      "Requirement already satisfied: pytz>=2020.1 in c:\\users\\manoj\\appdata\\local\\programs\\python\\python312\\lib\\site-packages (from pandas) (2024.2)\n",
      "Requirement already satisfied: tzdata>=2022.7 in c:\\users\\manoj\\appdata\\local\\programs\\python\\python312\\lib\\site-packages (from pandas) (2024.2)\n",
      "Requirement already satisfied: et-xmlfile in c:\\users\\manoj\\appdata\\local\\programs\\python\\python312\\lib\\site-packages (from openpyxl) (2.0.0)\n",
      "Requirement already satisfied: six>=1.5 in c:\\users\\manoj\\appdata\\local\\programs\\python\\python312\\lib\\site-packages (from python-dateutil>=2.8.2->pandas) (1.17.0)\n",
      "Requirement already satisfied: cffi>=1.12 in c:\\users\\manoj\\appdata\\local\\programs\\python\\python312\\lib\\site-packages (from cryptography>=36.0.0->pdfminer.six==20231228->pdfplumber) (1.17.1)\n",
      "Requirement already satisfied: pycparser in c:\\users\\manoj\\appdata\\local\\programs\\python\\python312\\lib\\site-packages (from cffi>=1.12->cryptography>=36.0.0->pdfminer.six==20231228->pdfplumber) (2.22)\n",
      "Note: you may need to restart the kernel to use updated packages.\n"
     ]
    },
    {
     "name": "stderr",
     "output_type": "stream",
     "text": [
      "\n",
      "[notice] A new release of pip is available: 24.3.1 -> 25.0\n",
      "[notice] To update, run: python.exe -m pip install --upgrade pip\n"
     ]
    }
   ],
   "source": [
    "pip install PyPDF2 pdfplumber pytesseract pillow pandas openpyxl\n"
   ]
  },
  {
   "cell_type": "code",
   "execution_count": 4,
   "id": "cf6d6ca4-518c-41e4-8575-84b670e450a8",
   "metadata": {},
   "outputs": [
    {
     "name": "stdout",
     "output_type": "stream",
     "text": [
      "Collecting pdf2image\n",
      "  Downloading pdf2image-1.17.0-py3-none-any.whl.metadata (6.2 kB)\n",
      "Requirement already satisfied: pillow in c:\\users\\manoj\\appdata\\local\\programs\\python\\python312\\lib\\site-packages (from pdf2image) (11.1.0)\n",
      "Downloading pdf2image-1.17.0-py3-none-any.whl (11 kB)\n",
      "Installing collected packages: pdf2image\n",
      "Successfully installed pdf2image-1.17.0\n",
      "Note: you may need to restart the kernel to use updated packages.\n"
     ]
    },
    {
     "name": "stderr",
     "output_type": "stream",
     "text": [
      "\n",
      "[notice] A new release of pip is available: 24.3.1 -> 25.0\n",
      "[notice] To update, run: python.exe -m pip install --upgrade pip\n"
     ]
    }
   ],
   "source": [
    "pip install pdf2image\n"
   ]
  },
  {
   "cell_type": "code",
   "execution_count": 1,
   "id": "bd55dff7-1fbe-4a23-a1bd-460fac8a410e",
   "metadata": {},
   "outputs": [
    {
     "name": "stdout",
     "output_type": "stream",
     "text": [
      "Processing cardio_structured.pdf - Page 6...\n"
     ]
    },
    {
     "name": "stderr",
     "output_type": "stream",
     "text": [
      "C:\\Users\\manoj\\AppData\\Local\\Programs\\Python\\Python312\\Lib\\site-packages\\openpyxl\\workbook\\child.py:99: UserWarning: Title is more than 31 characters. Some applications may not be able to read the file\n",
      "  warnings.warn(\"Title is more than 31 characters. Some applications may not be able to read the file\")\n"
     ]
    },
    {
     "name": "stdout",
     "output_type": "stream",
     "text": [
      "Processing prot_sap_102.pdf - Page 50...\n",
      "Processing prot_sap_1.pdf - Page 14...\n",
      "Extraction completed! Saved as extracted_tables.xlsx\n"
     ]
    }
   ],
   "source": [
    "import pdfplumber\n",
    "import pandas as pd\n",
    "import pytesseract\n",
    "from pdf2image import convert_from_path\n",
    "\n",
    "\n",
    "def extract_tables_from_pdf(pdf_path, page_number):\n",
    "    tables_data = []\n",
    "    with pdfplumber.open(pdf_path) as pdf:\n",
    "        page = pdf.pages[page_number - 1] \n",
    "        tables = page.extract_tables()\n",
    "        for table in tables:\n",
    "            df = pd.DataFrame(table) \n",
    "            tables_data.append(df)\n",
    "    return tables_data\n",
    "\n",
    "\n",
    "def perform_ocr_on_page(pdf_path, page_number):\n",
    "    images = convert_from_path(pdf_path, first_page=page_number, last_page=page_number)\n",
    "    extracted_text = []\n",
    "    for image in images:\n",
    "        text = pytesseract.image_to_string(image)\n",
    "        extracted_text.append(text)\n",
    "    return \"\\n\".join(extracted_text)\n",
    "    \n",
    "pdf_files = {\n",
    "    \"cardio_structured.pdf\": 6,\n",
    "    \"prot_sap_102.pdf\": 50,\n",
    "    \"prot_sap_1.pdf\": 14\n",
    "}\n",
    "\n",
    "\n",
    "output_file = \"extracted_tables.xlsx\"\n",
    "writer = pd.ExcelWriter(output_file, engine='openpyxl')\n",
    "\n",
    "\n",
    "for pdf_name, page_number in pdf_files.items():\n",
    "    print(f\"Processing {pdf_name} - Page {page_number}...\")\n",
    "    pdf_path = f\"./{pdf_name}\"  \n",
    "   \n",
    "    tables = extract_tables_from_pdf(pdf_path, page_number)\n",
    "\n",
    "    if tables:\n",
    "        for i, table in enumerate(tables):\n",
    "            table.to_excel(writer, sheet_name=f\"{pdf_name}_Page{page_number}_Table{i+1}\", index=False)\n",
    "    else:\n",
    "       \n",
    "        extracted_text = perform_ocr_on_page(pdf_path, page_number)\n",
    "        df_text = pd.DataFrame([extracted_text.split(\"\\n\")])\n",
    "        df_text.to_excel(writer, sheet_name=f\"{pdf_name}_Page{page_number}_OCR\", index=False)\n",
    "\n",
    "\n",
    "writer.close()\n",
    "print(f\"Extraction completed! Saved as {output_file}\")\n"
   ]
  },
  {
   "cell_type": "code",
   "execution_count": null,
   "id": "b79aca28-9ea2-4f92-b226-49d114aff319",
   "metadata": {},
   "outputs": [],
   "source": []
  },
  {
   "cell_type": "code",
   "execution_count": null,
   "id": "9322b6c8-b0b5-49ea-9813-a246cdc4506f",
   "metadata": {},
   "outputs": [],
   "source": []
  },
  {
   "cell_type": "code",
   "execution_count": null,
   "id": "813909c7-a870-43c6-9664-71564f5b0297",
   "metadata": {},
   "outputs": [],
   "source": []
  }
 ],
 "metadata": {
  "kernelspec": {
   "display_name": "Python 3 (ipykernel)",
   "language": "python",
   "name": "python3"
  },
  "language_info": {
   "codemirror_mode": {
    "name": "ipython",
    "version": 3
   },
   "file_extension": ".py",
   "mimetype": "text/x-python",
   "name": "python",
   "nbconvert_exporter": "python",
   "pygments_lexer": "ipython3",
   "version": "3.12.8"
  }
 },
 "nbformat": 4,
 "nbformat_minor": 5
}
